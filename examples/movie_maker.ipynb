{
 "cells": [
  {
   "cell_type": "code",
   "execution_count": 6,
   "id": "8f88ef4e",
   "metadata": {},
   "outputs": [
    {
     "name": "stderr",
     "output_type": "stream",
     "text": [
      "/tmp/ipykernel_937/832797636.py:33: MatplotlibDeprecationWarning: Support for setting an rcParam that expects a str value to a non-str value is deprecated since 3.5 and support will be removed two minor releases later.\n",
      "  matplotlib.rcParams['text.latex.preamble'] = [r'\\boldmath']\n"
     ]
    }
   ],
   "source": [
    "from IPython.display import HTML\n",
    "from curses import meta\n",
    "from enum import unique\n",
    "from fileinput import filename\n",
    "import itertools\n",
    "from time import time\n",
    "import numpy as np\n",
    "import matplotlib.pyplot as plt\n",
    "import matplotlib as mpl\n",
    "import vertex_model as model\n",
    "import vertex_model.initialisation as init\n",
    "from vertex_model.forces import TargetArea, Tension, Perimeter, Pressure\n",
    "from matplotlib import animation, rc\n",
    "import random\n",
    "import dill\n",
    "import pandas as pd\n",
    "from matplotlib import pyplot as plt\n",
    "import seaborn as sns\n",
    "import os\n",
    "from vertex_model import simulation_parser\n",
    "from vertex_model.simulation_parser import *\n",
    "import matplotlib\n",
    "import gc\n",
    "from ast import literal_eval\n",
    "import scipy\n",
    "from scipy import stats\n",
    "from matplotlib.backends.backend_pdf import PdfPages\n",
    "\n",
    "from vertex_model import script_for_memory_issues\n",
    "from vertex_model.script_for_memory_issues import *\n",
    "matplotlib.rc('font', family='sansserif', serif='cm10')\n",
    "matplotlib.rc('text', usetex=True)\n",
    "matplotlib.rcParams['text.latex.preamble'] = [r'\\boldmath']\n",
    "random.seed(123)"
   ]
  },
  {
   "cell_type": "code",
   "execution_count": 14,
   "id": "78ea841d",
   "metadata": {},
   "outputs": [
    {
     "name": "stdout",
     "output_type": "stream",
     "text": [
      "look here aaryan. 4\n"
     ]
    },
    {
     "ename": "IndexError",
     "evalue": "list index out of range",
     "output_type": "error",
     "traceback": [
      "\u001b[0;31m---------------------------------------------------------------------------\u001b[0m",
      "\u001b[0;31mIndexError\u001b[0m                                Traceback (most recent call last)",
      "Input \u001b[0;32mIn [14]\u001b[0m, in \u001b[0;36m<cell line: 2>\u001b[0;34m()\u001b[0m\n\u001b[1;32m      1\u001b[0m simulation\u001b[38;5;241m=\u001b[39mindex_of_simulation(model_type\u001b[38;5;241m=\u001b[39m\u001b[38;5;241m1\u001b[39m,k\u001b[38;5;241m=\u001b[39m\u001b[38;5;241m100\u001b[39m,r\u001b[38;5;241m=\u001b[39m\u001b[38;5;241m3\u001b[39m,d\u001b[38;5;241m=\u001b[39m\u001b[38;5;241m0\u001b[39m)\n\u001b[0;32m----> 2\u001b[0m metadata_index\u001b[38;5;241m=\u001b[39m\u001b[43msimulation\u001b[49m\u001b[43m[\u001b[49m\u001b[38;5;241;43m0\u001b[39;49m\u001b[43m]\u001b[49m\u001b[43m[\u001b[49m\u001b[38;5;241;43m0\u001b[39;49m\u001b[43m]\u001b[49m\n\u001b[1;32m      3\u001b[0m experiment_metadata\u001b[38;5;241m=\u001b[39mmake_metadata_dic()[metadata_index]\n\u001b[1;32m      4\u001b[0m history\u001b[38;5;241m=\u001b[39mmake_simulations_dic(metadata_index)\n",
      "\u001b[0;31mIndexError\u001b[0m: list index out of range"
     ]
    }
   ],
   "source": [
    "simulation=index_of_simulation(model_type=1,k=100,r=3,d=0)\n",
    "metadata_index=simulation[0][0]\n",
    "experiment_metadata=make_metadata_dic()[metadata_index]\n",
    "history=make_simulations_dic(metadata_index)\n",
    "history=list(history.values())\n",
    "for i in range(0,len(history)):\n",
    "    cells=history[i]\n",
    "\n"
   ]
  },
  {
   "cell_type": "code",
   "execution_count": null,
   "id": "f05f113a",
   "metadata": {
    "scrolled": true
   },
   "outputs": [],
   "source": [
    "\n",
    "#%%\n",
    "fig=plt.figure()\n",
    "ax = fig.gca()\n",
    "# initialization function: plot the background of each frame\n",
    "def init_fig():\n",
    "    ax = plt.figure()\n",
    "    return (ax,)\n",
    "# animation function. This is called sequentially\n",
    "def animate_fig(i):\n",
    "    cells_array=history\n",
    "    v_max = np.max((np.max(cells_array[0].mesh.vertices), np.max(cells_array[-1].mesh.vertices)))\n",
    "    size = 0.5*v_max\n",
    "    cells= history[i]\n",
    "    return model.draw(cells,ax,size)\n",
    "# call the animator. blit=True means only re-draw the parts that have changed.\n",
    "anim = animation.FuncAnimation(fig,animate_fig, init_func=init_fig,\n",
    "                               frames=len(history))\n",
    "HTML(anim.to_html5_video())\n",
    "#FFMpegWriter = manimation.writers['ffmpeg']"
   ]
  }
 ],
 "metadata": {
  "kernelspec": {
   "display_name": "Python 3 (ipykernel)",
   "language": "python",
   "name": "python3"
  },
  "language_info": {
   "codemirror_mode": {
    "name": "ipython",
    "version": 3
   },
   "file_extension": ".py",
   "mimetype": "text/x-python",
   "name": "python",
   "nbconvert_exporter": "python",
   "pygments_lexer": "ipython3",
   "version": "3.8.13"
  }
 },
 "nbformat": 4,
 "nbformat_minor": 5
}
